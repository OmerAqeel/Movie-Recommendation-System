{
  "nbformat": 4,
  "nbformat_minor": 0,
  "metadata": {
    "colab": {
      "name": "Movies_recommendation_system.ipynb",
      "provenance": [],
      "collapsed_sections": []
    },
    "kernelspec": {
      "name": "python3",
      "display_name": "Python 3"
    },
    "language_info": {
      "name": "python"
    }
  },
  "cells": [
    {
      "cell_type": "markdown",
      "source": [
        "Collecting and pre-processing the data\n"
      ],
      "metadata": {
        "id": "2AYpi-KAa6fA"
      }
    },
    {
      "cell_type": "markdown",
      "source": [
        "# **Movie Recommendation system** completed"
      ],
      "metadata": {
        "id": "-j6XSWqKOID3"
      }
    },
    {
      "cell_type": "code",
      "source": [
        "#Importing dependencies\n",
        "import numpy as np\n",
        "import pandas as pd\n",
        "import difflib #user might make a mistake in spelling the movie so this lib will find the closest match to the movie\n",
        "from sklearn.feature_extraction.text import TfidfVectorizer #converting textual data to numerical data\n",
        "from sklearn.metrics.pairwise  import cosine_similarity #gives the similarity score between the movie input by user and the movies in the dataset to recommend the right movie\n",
        "                                                        #highest similarity score means those movies are similar\n",
        "\n",
        "##COLLECTING AND PRE-PROCESSING DATA \n",
        "\n",
        "#loading the data from the csv file to df (pandas)\n",
        "movies_data = pd.read_csv(\"/content/movies.csv\")\n",
        "\n",
        "#Selecting the right features from the dataset\n",
        "features_chosen = ['genres', 'keywords', 'tagline', 'cast', 'director']\n",
        "\n",
        "#replacing the missing values with null string\n",
        "for feature in features_chosen:\n",
        "  movies_data[feature] = movies_data[feature].fillna('')\n",
        "\n",
        "#combining all the 5 features that have been chosen\n",
        "features_combined = movies_data['genres']+ ' ' +movies_data['keywords']+' ' +movies_data['tagline']+' '+ movies_data['cast']+' '+movies_data['director']\n",
        "\n",
        "#converting the textual data to features vectors\n",
        "vectorizer = TfidfVectorizer()\n",
        "\n",
        "feature_vectors = vectorizer.fit_transform(features_combined) #this will transform all the textual data to numerical\n",
        "\n",
        "#Getting the cosine similarity score \n",
        "similarity = cosine_similarity(feature_vectors)\n",
        "\n",
        "#Getting the movie from the user\n",
        "user_movie = input('Enter your favourite movie: ')\n",
        "\n",
        "#Creating the list of all the names that are in the dataset\n",
        "list_of_the_movies = movies_data['title'].tolist()\n",
        "\n",
        "#Finding the close match of the movies name that is given by the user\n",
        "find_close_match = difflib.get_close_matches(user_movie, list_of_the_movies)\n",
        "\n",
        "close_match = find_close_match[0]\n",
        "\n",
        "#Finding the index of the movie\n",
        "index = \"\"\n",
        "\n",
        "index = movies_data.index[movies_data['title'] == close_match].values[0]\n",
        "\n",
        "#getting the list of similar movies to the close match\n",
        "similarity_score = list(enumerate(similarity[index]))\n",
        "\n",
        "#Sorting the movies based on the similarity score\n",
        "sorted_similar_movies = sorted(similarity_score, key = lambda x:x[1], reverse = True)\n",
        "\n",
        "#print the name of some of the similar movies based on the index\n",
        "print(\"Movies recommended for you to watch: \")\n",
        "\n",
        "i = 1 \n",
        "for movie in sorted_similar_movies:\n",
        "  index = movie[0]\n",
        "  title_of_the_movie = movies_data[movies_data.index == index]['title'].values[0]\n",
        "  if (i<16):\n",
        "    print(i, \": \", title_of_the_movie)\n",
        "    i = i+1\n",
        "\n"
      ],
      "metadata": {
        "id": "C5bRZqIMOSiM"
      },
      "execution_count": null,
      "outputs": []
    },
    {
      "cell_type": "code",
      "source": [
        ""
      ],
      "metadata": {
        "id": "J6taDry8P6BF"
      },
      "execution_count": null,
      "outputs": []
    }
  ]
}